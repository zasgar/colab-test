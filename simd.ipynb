{
  "nbformat": 4,
  "nbformat_minor": 0,
  "metadata": {
    "colab": {
      "name": "Untitled0.ipynb",
      "provenance": [],
      "authorship_tag": "ABX9TyMYjSBOMCaKuL6OAdVlMV+F",
      "include_colab_link": true
    },
    "kernelspec": {
      "name": "python3",
      "display_name": "Python 3"
    }
  },
  "cells": [
    {
      "cell_type": "markdown",
      "metadata": {
        "id": "view-in-github",
        "colab_type": "text"
      },
      "source": [
        "<a href=\"https://colab.research.google.com/github/zasgar/colab-test/blob/master/simd.ipynb\" target=\"_parent\"><img src=\"https://colab.research.google.com/assets/colab-badge.svg\" alt=\"Open In Colab\"/></a>"
      ]
    },
    {
      "cell_type": "code",
      "metadata": {
        "id": "TohI-f-gKxvf",
        "colab_type": "code",
        "colab": {
          "base_uri": "https://localhost:8080/",
          "height": 1000
        },
        "outputId": "6f0043ee-2259-4786-d5e8-94d6a852b206"
      },
      "source": [
        "! git clone https://github.com/google/benchmark.git\n",
        "! cd benchmark && mkdir -p build && cd build && cmake -DBENCHMARK_ENABLE_TESTING=off .. && make -j10"
      ],
      "execution_count": 1,
      "outputs": [
        {
          "output_type": "stream",
          "text": [
            "Cloning into 'benchmark'...\n",
            "remote: Enumerating objects: 11, done.\u001b[K\n",
            "remote: Counting objects: 100% (11/11), done.\u001b[K\n",
            "remote: Compressing objects: 100% (9/9), done.\u001b[K\n",
            "remote: Total 5435 (delta 2), reused 2 (delta 2), pack-reused 5424\u001b[K\n",
            "Receiving objects: 100% (5435/5435), 1.78 MiB | 19.20 MiB/s, done.\n",
            "Resolving deltas: 100% (3582/3582), done.\n",
            "-- The CXX compiler identification is GNU 7.5.0\n",
            "-- Check for working CXX compiler: /usr/bin/c++\n",
            "-- Check for working CXX compiler: /usr/bin/c++ -- works\n",
            "-- Detecting CXX compiler ABI info\n",
            "-- Detecting CXX compiler ABI info - done\n",
            "-- Detecting CXX compile features\n",
            "-- Detecting CXX compile features - done\n",
            "-- Failed to find LLVM FileCheck\n",
            "-- Found Git: /usr/bin/git (found version \"2.17.1\") \n",
            "-- git Version: v1.5.0-ecc16853\n",
            "-- Version: 1.5.0\n",
            "-- Performing Test HAVE_CXX_FLAG_STD_CXX11\n",
            "-- Performing Test HAVE_CXX_FLAG_STD_CXX11 - Success\n",
            "-- Performing Test HAVE_CXX_FLAG_WALL\n",
            "-- Performing Test HAVE_CXX_FLAG_WALL - Success\n",
            "-- Performing Test HAVE_CXX_FLAG_WEXTRA\n",
            "-- Performing Test HAVE_CXX_FLAG_WEXTRA - Success\n",
            "-- Performing Test HAVE_CXX_FLAG_WSHADOW\n",
            "-- Performing Test HAVE_CXX_FLAG_WSHADOW - Success\n",
            "-- Performing Test HAVE_CXX_FLAG_WERROR\n",
            "-- Performing Test HAVE_CXX_FLAG_WERROR - Success\n",
            "-- Performing Test HAVE_CXX_FLAG_WSHORTEN_64_TO_32\n",
            "-- Performing Test HAVE_CXX_FLAG_WSHORTEN_64_TO_32 - Failed\n",
            "-- Performing Test HAVE_CXX_FLAG_FSTRICT_ALIASING\n",
            "-- Performing Test HAVE_CXX_FLAG_FSTRICT_ALIASING - Success\n",
            "-- Performing Test HAVE_CXX_FLAG_WNO_DEPRECATED_DECLARATIONS\n",
            "-- Performing Test HAVE_CXX_FLAG_WNO_DEPRECATED_DECLARATIONS - Success\n",
            "-- Performing Test HAVE_CXX_FLAG_WNO_DEPRECATED\n",
            "-- Performing Test HAVE_CXX_FLAG_WNO_DEPRECATED - Success\n",
            "-- Performing Test HAVE_CXX_FLAG_WSTRICT_ALIASING\n",
            "-- Performing Test HAVE_CXX_FLAG_WSTRICT_ALIASING - Success\n",
            "-- Performing Test HAVE_CXX_FLAG_WD654\n",
            "-- Performing Test HAVE_CXX_FLAG_WD654 - Failed\n",
            "-- Performing Test HAVE_CXX_FLAG_WTHREAD_SAFETY\n",
            "-- Performing Test HAVE_CXX_FLAG_WTHREAD_SAFETY - Failed\n",
            "-- Performing Test HAVE_CXX_FLAG_COVERAGE\n",
            "-- Performing Test HAVE_CXX_FLAG_COVERAGE - Success\n",
            "-- Performing Test HAVE_STD_REGEX\n",
            "-- Performing Test HAVE_STD_REGEX\n",
            "-- Performing Test HAVE_STD_REGEX -- success\n",
            "-- Performing Test HAVE_GNU_POSIX_REGEX\n",
            "-- Performing Test HAVE_GNU_POSIX_REGEX\n",
            "-- Performing Test HAVE_GNU_POSIX_REGEX -- failed to compile\n",
            "-- Performing Test HAVE_POSIX_REGEX\n",
            "-- Performing Test HAVE_POSIX_REGEX\n",
            "-- Performing Test HAVE_POSIX_REGEX -- success\n",
            "-- Performing Test HAVE_STEADY_CLOCK\n",
            "-- Performing Test HAVE_STEADY_CLOCK\n",
            "-- Performing Test HAVE_STEADY_CLOCK -- success\n",
            "-- Looking for C++ include pthread.h\n",
            "-- Looking for C++ include pthread.h - found\n",
            "-- Looking for pthread_create\n",
            "-- Looking for pthread_create - not found\n",
            "-- Check if compiler accepts -pthread\n",
            "-- Check if compiler accepts -pthread - yes\n",
            "-- Found Threads: TRUE  \n",
            "-- Configuring done\n",
            "-- Generating done\n",
            "-- Build files have been written to: /content/benchmark/build\n",
            "\u001b[35m\u001b[1mScanning dependencies of target benchmark\u001b[0m\n",
            "[  4%] \u001b[32mBuilding CXX object src/CMakeFiles/benchmark.dir/benchmark.cc.o\u001b[0m\n",
            "[  9%] \u001b[32mBuilding CXX object src/CMakeFiles/benchmark.dir/benchmark_api_internal.cc.o\u001b[0m\n",
            "[ 14%] \u001b[32mBuilding CXX object src/CMakeFiles/benchmark.dir/colorprint.cc.o\u001b[0m\n",
            "[ 19%] \u001b[32mBuilding CXX object src/CMakeFiles/benchmark.dir/benchmark_register.cc.o\u001b[0m\n",
            "[ 23%] \u001b[32mBuilding CXX object src/CMakeFiles/benchmark.dir/benchmark_runner.cc.o\u001b[0m\n",
            "[ 28%] \u001b[32mBuilding CXX object src/CMakeFiles/benchmark.dir/commandlineflags.cc.o\u001b[0m\n",
            "[ 33%] \u001b[32mBuilding CXX object src/CMakeFiles/benchmark.dir/console_reporter.cc.o\u001b[0m\n",
            "[ 38%] \u001b[32mBuilding CXX object src/CMakeFiles/benchmark.dir/benchmark_name.cc.o\u001b[0m\n",
            "[ 42%] \u001b[32mBuilding CXX object src/CMakeFiles/benchmark.dir/complexity.cc.o\u001b[0m\n",
            "[ 47%] \u001b[32mBuilding CXX object src/CMakeFiles/benchmark.dir/counter.cc.o\u001b[0m\n",
            "[ 52%] \u001b[32mBuilding CXX object src/CMakeFiles/benchmark.dir/csv_reporter.cc.o\u001b[0m\n",
            "[ 57%] \u001b[32mBuilding CXX object src/CMakeFiles/benchmark.dir/json_reporter.cc.o\u001b[0m\n",
            "[ 61%] \u001b[32mBuilding CXX object src/CMakeFiles/benchmark.dir/reporter.cc.o\u001b[0m\n",
            "[ 66%] \u001b[32mBuilding CXX object src/CMakeFiles/benchmark.dir/sleep.cc.o\u001b[0m\n",
            "[ 71%] \u001b[32mBuilding CXX object src/CMakeFiles/benchmark.dir/statistics.cc.o\u001b[0m\n",
            "[ 76%] \u001b[32mBuilding CXX object src/CMakeFiles/benchmark.dir/string_util.cc.o\u001b[0m\n",
            "[ 80%] \u001b[32mBuilding CXX object src/CMakeFiles/benchmark.dir/sysinfo.cc.o\u001b[0m\n",
            "[ 85%] \u001b[32mBuilding CXX object src/CMakeFiles/benchmark.dir/timers.cc.o\u001b[0m\n",
            "[ 90%] \u001b[32m\u001b[1mLinking CXX static library libbenchmark.a\u001b[0m\n",
            "[ 90%] Built target benchmark\n",
            "\u001b[35m\u001b[1mScanning dependencies of target benchmark_main\u001b[0m\n",
            "[ 95%] \u001b[32mBuilding CXX object src/CMakeFiles/benchmark_main.dir/benchmark_main.cc.o\u001b[0m\n",
            "[100%] \u001b[32m\u001b[1mLinking CXX static library libbenchmark_main.a\u001b[0m\n",
            "[100%] Built target benchmark_main\n"
          ],
          "name": "stdout"
        }
      ]
    },
    {
      "cell_type": "code",
      "metadata": {
        "id": "_qUCxt9kLSUV",
        "colab_type": "code",
        "colab": {}
      },
      "source": [
        ""
      ],
      "execution_count": 0,
      "outputs": []
    }
  ]
}