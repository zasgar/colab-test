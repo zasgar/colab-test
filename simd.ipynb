{
  "nbformat": 4,
  "nbformat_minor": 0,
  "metadata": {
    "colab": {
      "name": "Untitled0.ipynb",
      "provenance": [],
      "authorship_tag": "ABX9TyPafvjMMZ3CqUwGRn1S8BGQ",
      "include_colab_link": true
    },
    "kernelspec": {
      "name": "python3",
      "display_name": "Python 3"
    }
  },
  "cells": [
    {
      "cell_type": "markdown",
      "metadata": {
        "id": "view-in-github",
        "colab_type": "text"
      },
      "source": [
        "<a href=\"https://colab.research.google.com/github/zasgar/colab-test/blob/master/simd.ipynb\" target=\"_parent\"><img src=\"https://colab.research.google.com/assets/colab-badge.svg\" alt=\"Open In Colab\"/></a>"
      ]
    },
    {
      "cell_type": "code",
      "metadata": {
        "id": "TohI-f-gKxvf",
        "colab_type": "code",
        "colab": {
          "base_uri": "https://localhost:8080/",
          "height": 1000
        },
        "outputId": "0c5303e3-95d3-4cdf-ad75-a0bc51053306"
      },
      "source": [
        "! git clone https://github.com/google/benchmark.git\n",
        "! cd benchmark && mkdir -p build && cd build && cmake -DBENCHMARK_ENABLE_TESTING=off  -DCMAKE_BUILD_TYPE=Release .. && make -j10 && make install"
      ],
      "execution_count": 12,
      "outputs": [
        {
          "output_type": "stream",
          "text": [
            "Cloning into 'benchmark'...\n",
            "remote: Enumerating objects: 11, done.\u001b[K\n",
            "remote: Counting objects:   9% (1/11)\u001b[K\rremote: Counting objects:  18% (2/11)\u001b[K\rremote: Counting objects:  27% (3/11)\u001b[K\rremote: Counting objects:  36% (4/11)\u001b[K\rremote: Counting objects:  45% (5/11)\u001b[K\rremote: Counting objects:  54% (6/11)\u001b[K\rremote: Counting objects:  63% (7/11)\u001b[K\rremote: Counting objects:  72% (8/11)\u001b[K\rremote: Counting objects:  81% (9/11)\u001b[K\rremote: Counting objects:  90% (10/11)\u001b[K\rremote: Counting objects: 100% (11/11)\u001b[K\rremote: Counting objects: 100% (11/11), done.\u001b[K\n",
            "remote: Compressing objects: 100% (9/9), done.\u001b[K\n",
            "remote: Total 5435 (delta 2), reused 2 (delta 2), pack-reused 5424\u001b[K\n",
            "Receiving objects: 100% (5435/5435), 1.78 MiB | 17.71 MiB/s, done.\n",
            "Resolving deltas: 100% (3582/3582), done.\n",
            "-- The CXX compiler identification is GNU 7.5.0\n",
            "-- Check for working CXX compiler: /usr/bin/c++\n",
            "-- Check for working CXX compiler: /usr/bin/c++ -- works\n",
            "-- Detecting CXX compiler ABI info\n",
            "-- Detecting CXX compiler ABI info - done\n",
            "-- Detecting CXX compile features\n",
            "-- Detecting CXX compile features - done\n",
            "-- Failed to find LLVM FileCheck\n",
            "-- Found Git: /usr/bin/git (found version \"2.17.1\") \n",
            "-- git Version: v1.5.0-ecc16853\n",
            "-- Version: 1.5.0\n",
            "-- Performing Test HAVE_CXX_FLAG_STD_CXX11\n",
            "-- Performing Test HAVE_CXX_FLAG_STD_CXX11 - Success\n",
            "-- Performing Test HAVE_CXX_FLAG_WALL\n",
            "-- Performing Test HAVE_CXX_FLAG_WALL - Success\n",
            "-- Performing Test HAVE_CXX_FLAG_WEXTRA\n",
            "-- Performing Test HAVE_CXX_FLAG_WEXTRA - Success\n",
            "-- Performing Test HAVE_CXX_FLAG_WSHADOW\n",
            "-- Performing Test HAVE_CXX_FLAG_WSHADOW - Success\n",
            "-- Performing Test HAVE_CXX_FLAG_WERROR\n",
            "-- Performing Test HAVE_CXX_FLAG_WERROR - Success\n",
            "-- Performing Test HAVE_CXX_FLAG_WSHORTEN_64_TO_32\n",
            "-- Performing Test HAVE_CXX_FLAG_WSHORTEN_64_TO_32 - Failed\n",
            "-- Performing Test HAVE_CXX_FLAG_FSTRICT_ALIASING\n",
            "-- Performing Test HAVE_CXX_FLAG_FSTRICT_ALIASING - Success\n",
            "-- Performing Test HAVE_CXX_FLAG_WNO_DEPRECATED_DECLARATIONS\n",
            "-- Performing Test HAVE_CXX_FLAG_WNO_DEPRECATED_DECLARATIONS - Success\n",
            "-- Performing Test HAVE_CXX_FLAG_WNO_DEPRECATED\n",
            "-- Performing Test HAVE_CXX_FLAG_WNO_DEPRECATED - Success\n",
            "-- Performing Test HAVE_CXX_FLAG_WSTRICT_ALIASING\n",
            "-- Performing Test HAVE_CXX_FLAG_WSTRICT_ALIASING - Success\n",
            "-- Performing Test HAVE_CXX_FLAG_WD654\n",
            "-- Performing Test HAVE_CXX_FLAG_WD654 - Failed\n",
            "-- Performing Test HAVE_CXX_FLAG_WTHREAD_SAFETY\n",
            "-- Performing Test HAVE_CXX_FLAG_WTHREAD_SAFETY - Failed\n",
            "-- Performing Test HAVE_CXX_FLAG_COVERAGE\n",
            "-- Performing Test HAVE_CXX_FLAG_COVERAGE - Success\n",
            "-- Performing Test HAVE_STD_REGEX\n",
            "-- Performing Test HAVE_STD_REGEX\n",
            "-- Performing Test HAVE_STD_REGEX -- success\n",
            "-- Performing Test HAVE_GNU_POSIX_REGEX\n",
            "-- Performing Test HAVE_GNU_POSIX_REGEX\n",
            "-- Performing Test HAVE_GNU_POSIX_REGEX -- failed to compile\n",
            "-- Performing Test HAVE_POSIX_REGEX\n",
            "-- Performing Test HAVE_POSIX_REGEX\n",
            "-- Performing Test HAVE_POSIX_REGEX -- success\n",
            "-- Performing Test HAVE_STEADY_CLOCK\n",
            "-- Performing Test HAVE_STEADY_CLOCK\n",
            "-- Performing Test HAVE_STEADY_CLOCK -- success\n",
            "-- Looking for C++ include pthread.h\n",
            "-- Looking for C++ include pthread.h - found\n",
            "-- Looking for pthread_create\n",
            "-- Looking for pthread_create - not found\n",
            "-- Check if compiler accepts -pthread\n",
            "-- Check if compiler accepts -pthread - yes\n",
            "-- Found Threads: TRUE  \n",
            "-- Configuring done\n",
            "-- Generating done\n",
            "-- Build files have been written to: /content/colab-test/simd_test/benchmark/build\n",
            "\u001b[35m\u001b[1mScanning dependencies of target benchmark\u001b[0m\n",
            "[  4%] \u001b[32mBuilding CXX object src/CMakeFiles/benchmark.dir/benchmark.cc.o\u001b[0m\n",
            "[ 14%] \u001b[32mBuilding CXX object src/CMakeFiles/benchmark.dir/benchmark_api_internal.cc.o\u001b[0m\n",
            "[ 14%] \u001b[32mBuilding CXX object src/CMakeFiles/benchmark.dir/commandlineflags.cc.o\u001b[0m\n",
            "[ 19%] \u001b[32mBuilding CXX object src/CMakeFiles/benchmark.dir/benchmark_runner.cc.o\u001b[0m\n",
            "[ 23%] \u001b[32mBuilding CXX object src/CMakeFiles/benchmark.dir/console_reporter.cc.o\u001b[0m\n",
            "[ 28%] \u001b[32mBuilding CXX object src/CMakeFiles/benchmark.dir/colorprint.cc.o\u001b[0m\n",
            "[ 38%] \u001b[32mBuilding CXX object src/CMakeFiles/benchmark.dir/complexity.cc.o\u001b[0m\n",
            "[ 38%] \u001b[32mBuilding CXX object src/CMakeFiles/benchmark.dir/benchmark_register.cc.o\u001b[0m\n",
            "[ 42%] \u001b[32mBuilding CXX object src/CMakeFiles/benchmark.dir/benchmark_name.cc.o\u001b[0m\n",
            "[ 47%] \u001b[32mBuilding CXX object src/CMakeFiles/benchmark.dir/counter.cc.o\u001b[0m\n",
            "[ 52%] \u001b[32mBuilding CXX object src/CMakeFiles/benchmark.dir/csv_reporter.cc.o\u001b[0m\n",
            "[ 57%] \u001b[32mBuilding CXX object src/CMakeFiles/benchmark.dir/json_reporter.cc.o\u001b[0m\n",
            "[ 61%] \u001b[32mBuilding CXX object src/CMakeFiles/benchmark.dir/reporter.cc.o\u001b[0m\n",
            "[ 66%] \u001b[32mBuilding CXX object src/CMakeFiles/benchmark.dir/sleep.cc.o\u001b[0m\n",
            "[ 71%] \u001b[32mBuilding CXX object src/CMakeFiles/benchmark.dir/statistics.cc.o\u001b[0m\n",
            "[ 76%] \u001b[32mBuilding CXX object src/CMakeFiles/benchmark.dir/string_util.cc.o\u001b[0m\n",
            "[ 80%] \u001b[32mBuilding CXX object src/CMakeFiles/benchmark.dir/sysinfo.cc.o\u001b[0m\n",
            "[ 85%] \u001b[32mBuilding CXX object src/CMakeFiles/benchmark.dir/timers.cc.o\u001b[0m\n",
            "[ 90%] \u001b[32m\u001b[1mLinking CXX static library libbenchmark.a\u001b[0m\n",
            "[ 90%] Built target benchmark\n",
            "\u001b[35m\u001b[1mScanning dependencies of target benchmark_main\u001b[0m\n",
            "[ 95%] \u001b[32mBuilding CXX object src/CMakeFiles/benchmark_main.dir/benchmark_main.cc.o\u001b[0m\n",
            "[100%] \u001b[32m\u001b[1mLinking CXX static library libbenchmark_main.a\u001b[0m\n",
            "[100%] Built target benchmark_main\n",
            "[ 90%] Built target benchmark\n",
            "[100%] Built target benchmark_main\n",
            "\u001b[36mInstall the project...\u001b[0m\n",
            "-- Install configuration: \"Release\"\n",
            "-- Installing: /usr/local/lib/libbenchmark.a\n",
            "-- Installing: /usr/local/lib/libbenchmark_main.a\n",
            "-- Up-to-date: /usr/local/include/benchmark\n",
            "-- Installing: /usr/local/include/benchmark/benchmark.h\n",
            "-- Installing: /usr/local/lib/cmake/benchmark/benchmarkConfig.cmake\n",
            "-- Installing: /usr/local/lib/cmake/benchmark/benchmarkConfigVersion.cmake\n",
            "-- Installing: /usr/local/lib/pkgconfig/benchmark.pc\n",
            "-- Installing: /usr/local/lib/cmake/benchmark/benchmarkTargets.cmake\n",
            "-- Installing: /usr/local/lib/cmake/benchmark/benchmarkTargets-release.cmake\n"
          ],
          "name": "stdout"
        }
      ]
    },
    {
      "cell_type": "code",
      "metadata": {
        "id": "_qUCxt9kLSUV",
        "colab_type": "code",
        "colab": {
          "base_uri": "https://localhost:8080/",
          "height": 170
        },
        "outputId": "a82c3f1a-0006-422e-c831-caa6b7d68df1"
      },
      "source": [
        "! git clone https://github.com/zasgar/colab-test.git\n",
        "%cd colab-test/simd_test\n",
        "!make all "
      ],
      "execution_count": 13,
      "outputs": [
        {
          "output_type": "stream",
          "text": [
            "Cloning into 'colab-test'...\n",
            "remote: Enumerating objects: 12, done.\u001b[K\n",
            "remote: Counting objects:   8% (1/12)\u001b[K\rremote: Counting objects:  16% (2/12)\u001b[K\rremote: Counting objects:  25% (3/12)\u001b[K\rremote: Counting objects:  33% (4/12)\u001b[K\rremote: Counting objects:  41% (5/12)\u001b[K\rremote: Counting objects:  50% (6/12)\u001b[K\rremote: Counting objects:  58% (7/12)\u001b[K\rremote: Counting objects:  66% (8/12)\u001b[K\rremote: Counting objects:  75% (9/12)\u001b[K\rremote: Counting objects:  83% (10/12)\u001b[K\rremote: Counting objects:  91% (11/12)\u001b[K\rremote: Counting objects: 100% (12/12)\u001b[K\rremote: Counting objects: 100% (12/12), done.\u001b[K\n",
            "remote: Compressing objects:  10% (1/10)\u001b[K\rremote: Compressing objects:  20% (2/10)\u001b[K\rremote: Compressing objects:  30% (3/10)\u001b[K\rremote: Compressing objects:  40% (4/10)\u001b[K\rremote: Compressing objects:  50% (5/10)\u001b[K\rremote: Compressing objects:  60% (6/10)\u001b[K\rremote: Compressing objects:  70% (7/10)\u001b[K\rremote: Compressing objects:  80% (8/10)\u001b[K\rremote: Compressing objects:  90% (9/10)\u001b[K\rremote: Compressing objects: 100% (10/10)\u001b[K\rremote: Compressing objects: 100% (10/10), done.\u001b[K\n",
            "remote: Total 12 (delta 2), reused 6 (delta 1), pack-reused 0\u001b[K\n",
            "Unpacking objects:   8% (1/12)   \rUnpacking objects:  16% (2/12)   \rUnpacking objects:  25% (3/12)   \rUnpacking objects:  33% (4/12)   \rUnpacking objects:  41% (5/12)   \rUnpacking objects:  50% (6/12)   \rUnpacking objects:  58% (7/12)   \rUnpacking objects:  66% (8/12)   \rUnpacking objects:  75% (9/12)   \rUnpacking objects:  83% (10/12)   \rUnpacking objects:  91% (11/12)   \rUnpacking objects: 100% (12/12)   \rUnpacking objects: 100% (12/12), done.\n",
            "/content/colab-test/simd_test/colab-test/simd_test\n",
            "clang++ -mavx -march=native -O2 -o bm_vector bm.cc -I/usr/local/include /usr/local/lib/libbenchmark.a /usr/local/lib/libbenchmark_main.a -lpthread\n",
            "clang++ -mno-avx -mno-sse -mno-sse2 -mno-mmx -fno-vectorize -march=native -O2 -o bm_no_vector bm.cc -I/usr/local/include /usr/local/lib/libbenchmark.a /usr/local/lib/libbenchmark_main.a -lpthread\n"
          ],
          "name": "stdout"
        }
      ]
    },
    {
      "cell_type": "code",
      "metadata": {
        "id": "qhCL1cxgOtrx",
        "colab_type": "code",
        "colab": {
          "base_uri": "https://localhost:8080/",
          "height": 289
        },
        "outputId": "561d1bec-3346-4086-bfe7-b392b216e777"
      },
      "source": [
        "! ./bm_no_vector"
      ],
      "execution_count": 14,
      "outputs": [
        {
          "output_type": "stream",
          "text": [
            "2020-04-19 20:59:35\n",
            "Running ./bm_no_vector\n",
            "Run on (2 X 2300 MHz CPU s)\n",
            "CPU Caches:\n",
            "  L1 Data 32 KiB (x1)\n",
            "  L1 Instruction 32 KiB (x1)\n",
            "  L2 Unified 256 KiB (x1)\n",
            "  L3 Unified 46080 KiB (x1)\n",
            "Load Average: 2.04, 0.62, 0.27\n",
            "--------------------------------------------------------------------------------------\n",
            "Benchmark                            Time             CPU   Iterations UserCounters...\n",
            "--------------------------------------------------------------------------------------\n",
            "\u001b[0;32mBM_vectorSum<double>/65535  \u001b[m\u001b[0;33m    144807 ns       144293 ns   \u001b[m\u001b[0;36m      4879\u001b[m bytes_per_second=3.3839G/s\u001b[m\n",
            "\u001b[m\u001b[0;32mBM_vectorSum<float>/65535   \u001b[m\u001b[0;33m     81928 ns        81693 ns   \u001b[m\u001b[0;36m      8672\u001b[m bytes_per_second=2.98848G/s\u001b[m\n",
            "\u001b[m\u001b[0;32mBM_vectorSum<int64_t>/65535 \u001b[m\u001b[0;33m     95051 ns        93982 ns   \u001b[m\u001b[0;36m      7552\u001b[m bytes_per_second=5.19541G/s\u001b[m\n",
            "\u001b[m\u001b[0;32mBM_vectorSum<int8_t>/65535  \u001b[m\u001b[0;33m     26732 ns        26593 ns   \u001b[m\u001b[0;36m     26481\u001b[m bytes_per_second=2.29514G/s\u001b[m\n",
            "\u001b[m"
          ],
          "name": "stdout"
        }
      ]
    },
    {
      "cell_type": "code",
      "metadata": {
        "id": "nOhrq5loPA9g",
        "colab_type": "code",
        "colab": {
          "base_uri": "https://localhost:8080/",
          "height": 289
        },
        "outputId": "57351888-0ce5-41d7-f678-e0d70cb47cb6"
      },
      "source": [
        "! ./bm_vector"
      ],
      "execution_count": 15,
      "outputs": [
        {
          "output_type": "stream",
          "text": [
            "2020-04-19 20:59:39\n",
            "Running ./bm_vector\n",
            "Run on (2 X 2300 MHz CPU s)\n",
            "CPU Caches:\n",
            "  L1 Data 32 KiB (x1)\n",
            "  L1 Instruction 32 KiB (x1)\n",
            "  L2 Unified 256 KiB (x1)\n",
            "  L3 Unified 46080 KiB (x1)\n",
            "Load Average: 2.04, 0.62, 0.27\n",
            "--------------------------------------------------------------------------------------\n",
            "Benchmark                            Time             CPU   Iterations UserCounters...\n",
            "--------------------------------------------------------------------------------------\n",
            "\u001b[0;32mBM_vectorSum<double>/65535  \u001b[m\u001b[0;33m    172145 ns       170484 ns   \u001b[m\u001b[0;36m      4035\u001b[m bytes_per_second=2.86405G/s\u001b[m\n",
            "\u001b[m\u001b[0;32mBM_vectorSum<float>/65535   \u001b[m\u001b[0;33m    106721 ns       106510 ns   \u001b[m\u001b[0;36m      6652\u001b[m bytes_per_second=2.29215G/s\u001b[m\n",
            "\u001b[m\u001b[0;32mBM_vectorSum<int64_t>/65535 \u001b[m\u001b[0;33m     75210 ns        74805 ns   \u001b[m\u001b[0;36m      9282\u001b[m bytes_per_second=6.5273G/s\u001b[m\n",
            "\u001b[m\u001b[0;32mBM_vectorSum<int8_t>/65535  \u001b[m\u001b[0;33m      2766 ns         2754 ns   \u001b[m\u001b[0;36m    257056\u001b[m bytes_per_second=22.1624G/s\u001b[m\n",
            "\u001b[m"
          ],
          "name": "stdout"
        }
      ]
    }
  ]
}